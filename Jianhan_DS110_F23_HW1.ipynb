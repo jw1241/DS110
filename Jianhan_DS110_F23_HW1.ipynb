{
  "cells": [
    {
      "cell_type": "markdown",
      "metadata": {
        "id": "view-in-github",
        "colab_type": "text"
      },
      "source": [
        "<a href=\"https://colab.research.google.com/github/jw1241/DS110/blob/main/YourName_DS110_F23_HW1.ipynb\" target=\"_parent\"><img src=\"https://colab.research.google.com/assets/colab-badge.svg\" alt=\"Open In Colab\"/></a>"
      ]
    },
    {
      "cell_type": "markdown",
      "metadata": {
        "id": "t5mfEbDIGzKz"
      },
      "source": [
        "# Homework 1 - 60 points possible - Due 9/18 11:59pm"
      ]
    },
    {
      "cell_type": "markdown",
      "metadata": {
        "id": "r3B-dpH5iZLv"
      },
      "source": [
        "# Problem 1:  Expression warmups (6 pts: 2,2,2)\n",
        "\n",
        "Compute the following quantities in the code boxes that follow each prompt.\n",
        "Note that for each of these, we care about what the code *evaluates to* and not what it *prints* - so you don't need to call print() for any of these.\n",
        "\n",
        "a) (2 pts) The square of 2023.\n",
        "\n"
      ]
    },
    {
      "cell_type": "code",
      "execution_count": null,
      "metadata": {
        "colab": {
          "base_uri": "https://localhost:8080/"
        },
        "id": "rEMn_1TbiuB8",
        "outputId": "1fea5cb8-8551-48e1-fcfa-a067afddbdfd"
      },
      "outputs": [
        {
          "output_type": "execute_result",
          "data": {
            "text/plain": [
              "4092529"
            ]
          },
          "metadata": {},
          "execution_count": 2
        }
      ],
      "source": [
        "2023 ** 2"
      ]
    },
    {
      "cell_type": "markdown",
      "metadata": {
        "id": "xxv597ytixjM"
      },
      "source": [
        "b) (2 pts) The number of characters in the phrase \"Pursue the unknown end.\"  (Including the whitespace and period.)"
      ]
    },
    {
      "cell_type": "code",
      "execution_count": null,
      "metadata": {
        "id": "uIGdIsgbi_Lb",
        "colab": {
          "base_uri": "https://localhost:8080/"
        },
        "outputId": "792b2e26-9e71-42af-8db9-a4c9f3b837cd"
      },
      "outputs": [
        {
          "output_type": "execute_result",
          "data": {
            "text/plain": [
              "23"
            ]
          },
          "metadata": {},
          "execution_count": 9
        }
      ],
      "source": [
        "len(\"Pursue the unknown end.\")"
      ]
    },
    {
      "cell_type": "markdown",
      "metadata": {
        "id": "V_fmMh-3ja1o"
      },
      "source": [
        "c) (2 pts) The remainder (import the math library) of -289 divided by 12."
      ]
    },
    {
      "cell_type": "code",
      "execution_count": null,
      "metadata": {
        "id": "QM5HsgRIjZ5T",
        "colab": {
          "base_uri": "https://localhost:8080/"
        },
        "outputId": "c7872d4f-f57f-480b-d27d-6caaec66baf1"
      },
      "outputs": [
        {
          "output_type": "execute_result",
          "data": {
            "text/plain": [
              "-1.0"
            ]
          },
          "metadata": {},
          "execution_count": 5
        }
      ],
      "source": [
        "import math\n",
        "math.remainder(-289, 12)"
      ]
    },
    {
      "cell_type": "markdown",
      "metadata": {
        "id": "m_ToSffrEOWW"
      },
      "source": [
        "# Problem 2:  Logic (14 pts: 2,4,4,4)"
      ]
    },
    {
      "cell_type": "markdown",
      "metadata": {
        "id": "XfQaIFHcEOWW"
      },
      "source": [
        "These problems will get you used to logical reasoning with and, or, and not, which come up quite a bit in programming.  For each problem, find the assignment of True or False to each variable that makes the variable \"result\" True."
      ]
    },
    {
      "cell_type": "markdown",
      "metadata": {
        "id": "5JUzbmFvEOWW"
      },
      "source": [
        "a) (2 pts)"
      ]
    },
    {
      "cell_type": "code",
      "execution_count": null,
      "metadata": {
        "id": "jhZndkMCEOWW",
        "outputId": "8873a6a4-12e6-427c-c535-bcec54fecc0e",
        "colab": {
          "base_uri": "https://localhost:8080/"
        }
      },
      "outputs": [
        {
          "output_type": "execute_result",
          "data": {
            "text/plain": [
              "True"
            ]
          },
          "metadata": {},
          "execution_count": 11
        }
      ],
      "source": [
        "a = True   # TODO:  change if necessary\n",
        "b = True   # TODO:  change if necessary\n",
        "result = a and b\n",
        "result"
      ]
    },
    {
      "cell_type": "markdown",
      "metadata": {
        "id": "oul_QSIUEOWX"
      },
      "source": [
        "b) (4 pts)"
      ]
    },
    {
      "cell_type": "code",
      "execution_count": null,
      "metadata": {
        "id": "uj9A5tBLEOWX",
        "outputId": "e372ce06-6ef3-40d4-b70d-3cdf65e01561",
        "colab": {
          "base_uri": "https://localhost:8080/"
        }
      },
      "outputs": [
        {
          "output_type": "execute_result",
          "data": {
            "text/plain": [
              "True"
            ]
          },
          "metadata": {},
          "execution_count": 14
        }
      ],
      "source": [
        "a = True  # TODO:  change if necessary\n",
        "b = False # TODO:  change if necessary\n",
        "result = (a and not b) or (not a and b) and a\n",
        "result"
      ]
    },
    {
      "cell_type": "markdown",
      "metadata": {
        "id": "NgwEKpqPEOWX"
      },
      "source": [
        "c) (4 pts)"
      ]
    },
    {
      "cell_type": "code",
      "execution_count": null,
      "metadata": {
        "id": "CIVKJqONEOWX",
        "outputId": "2c65e863-f4fb-43ae-fc79-3777978583f3",
        "colab": {
          "base_uri": "https://localhost:8080/"
        }
      },
      "outputs": [
        {
          "output_type": "execute_result",
          "data": {
            "text/plain": [
              "True"
            ]
          },
          "metadata": {},
          "execution_count": 30
        }
      ],
      "source": [
        "a = True  # TODO:  change if necessary\n",
        "b = True   # TODO:  change if necessary\n",
        "c = False  # TODO:  change if necessary\n",
        "d = True  # TODO:  change if necessary\n",
        "e = True   # TODO:  change if necessary\n",
        "result = (not a or b) and (not b or not c) and (c or d) and (not d or e) and a\n",
        "result"
      ]
    },
    {
      "cell_type": "markdown",
      "metadata": {
        "id": "93yUAdV6EOWX"
      },
      "source": [
        "d) (4 pts)"
      ]
    },
    {
      "cell_type": "markdown",
      "source": [],
      "metadata": {
        "id": "v83PQf3-E3sn"
      }
    },
    {
      "cell_type": "code",
      "execution_count": null,
      "metadata": {
        "id": "giHAkwQ9EOWX",
        "outputId": "dee7050d-b2bc-47df-f3da-342a2cdd7432",
        "colab": {
          "base_uri": "https://localhost:8080/"
        }
      },
      "outputs": [
        {
          "output_type": "execute_result",
          "data": {
            "text/plain": [
              "True"
            ]
          },
          "metadata": {},
          "execution_count": 33
        }
      ],
      "source": [
        "log_level = 0        # TODO:  change to 1 if necessary\n",
        "verbose = True      # TODO:  change to True if necessary\n",
        "gpu_enabled = True   # TODO:  change to True if necessary\n",
        "extensive = True     # TODO:  change to True if necessary\n",
        "if extensive:\n",
        "    iterations = 20\n",
        "else:\n",
        "    iterations = 5\n",
        "logging = log_level != 0\n",
        "run_full_analysis = iterations >= 10 and gpu_enabled\n",
        "result = run_full_analysis and verbose and not logging\n",
        "result"
      ]
    },
    {
      "cell_type": "markdown",
      "metadata": {
        "id": "zSHlKxeL2Dxi"
      },
      "source": [
        "# Problem 3:  Conditional warmups (20 pts: 6,8,6)"
      ]
    },
    {
      "cell_type": "markdown",
      "metadata": {
        "id": "vnnhP-eg2GaI"
      },
      "source": [
        "Write a brief program for each prompt that makes use of the provided variable current_hour to determine what hour of the day it is.  current_hour can be set to any value between 0 (midnight) and 23 (11pm)."
      ]
    },
    {
      "cell_type": "code",
      "execution_count": null,
      "metadata": {
        "id": "7INB3vZW2QEZ"
      },
      "outputs": [],
      "source": [
        "current_hour = 12  # change to get different outputs below"
      ]
    },
    {
      "cell_type": "markdown",
      "metadata": {
        "id": "WyUKMhGV3-TV"
      },
      "source": [
        "a) (6 pts) If the current hour is between 5 and 9 inclusive, print \"Breakfast!\".  If the current hour is between 10 and 13 inclusive, print \"Brunch!\"  Otherwise, print \"Not breakfast :(\"."
      ]
    },
    {
      "cell_type": "code",
      "execution_count": null,
      "metadata": {
        "id": "0ywaqLMb4Znk",
        "colab": {
          "base_uri": "https://localhost:8080/"
        },
        "outputId": "20fb17b9-9a34-43cf-c7a5-7997d7064020"
      },
      "outputs": [
        {
          "output_type": "stream",
          "name": "stdout",
          "text": [
            "Brunch!\n"
          ]
        }
      ],
      "source": [
        "x = current_hour\n",
        "if x >= 5 and x <= 9:\n",
        "  print(\"Breakfast!\")\n",
        "\n",
        "elif x >= 10 and x <= 13:\n",
        "  print(\"Brunch!\")\n",
        "\n",
        "else:\n",
        "  print(\"Not breakfas:(\")"
      ]
    },
    {
      "cell_type": "markdown",
      "metadata": {
        "id": "ydjGzl3N5FxV"
      },
      "source": [
        "b) (8 points) If the time is equal to or after 9:00pm (21), print \"In three hours, it will be tomorrow.\" Otherwise, print \"In three hours, it will be \" followed by the hour three hours later using non-military time (so between 1 and 12).  (For example, if current_hour were 16, write \"In three hours, it will be 7.\")\n",
        "\n"
      ]
    },
    {
      "cell_type": "code",
      "execution_count": null,
      "metadata": {
        "id": "qCDO8lpj5ENe",
        "colab": {
          "base_uri": "https://localhost:8080/"
        },
        "outputId": "5a7c38e1-d23f-4be2-ddbc-07e915f761b0"
      },
      "outputs": [
        {
          "output_type": "stream",
          "name": "stdout",
          "text": [
            "In three hours, it will be 15\n"
          ]
        }
      ],
      "source": [
        "if x >= 21:\n",
        "  print(\"In three hours, it will be tomorrow.\")\n",
        "\n",
        "else:\n",
        "  print(\"In three hours, it will be \" + str(x+3))"
      ]
    },
    {
      "cell_type": "markdown",
      "metadata": {
        "id": "cPouu3nuEOWX"
      },
      "source": [
        "c) (6 points)  Print \"X hours until midnight\" if the current hour is after noon, where X is the correct number of hours, and \"X hours until noon\" if it's before noon.  If it's noon or midnight, print \"Noon\" or \"Midnight\", respectively.  (You don't need to change \"hours\" to \"hour\" if there's just one.)"
      ]
    },
    {
      "cell_type": "code",
      "execution_count": null,
      "metadata": {
        "id": "khVsrkpuEOWX",
        "colab": {
          "base_uri": "https://localhost:8080/"
        },
        "outputId": "5298807d-630e-4b57-e873-3d361cc110e9"
      },
      "outputs": [
        {
          "output_type": "stream",
          "name": "stdout",
          "text": [
            "Noon\n"
          ]
        }
      ],
      "source": [
        "if x > 12:\n",
        "  print(str(24-x) + \" hours until midnight\")\n",
        "\n",
        "elif x < 12:\n",
        "  print(str(12-x) + \" hours until noon\")\n",
        "\n",
        "elif x == 12:\n",
        "  print(\"Noon\")\n",
        "\n",
        "elif x == 24:\n",
        "  print(\"Midnight\")"
      ]
    },
    {
      "cell_type": "markdown",
      "metadata": {
        "id": "4ZCmUSwkr484"
      },
      "source": [
        "# Problem 4: Lists (20 pts: 2,2,3,4,3,3)\n",
        "\n",
        "Some gas prices around the Boston area are 4.99, 5.10, 5.40, and 4.80.\n",
        "\n",
        "a, 2pts) Create a variable named gas_prices that stores all four values as a list."
      ]
    },
    {
      "cell_type": "code",
      "execution_count": 5,
      "metadata": {
        "id": "Ujr6MRQQsX9t",
        "colab": {
          "base_uri": "https://localhost:8080/"
        },
        "outputId": "b92cce10-aa05-4c92-89a0-d92612f2aa96"
      },
      "outputs": [
        {
          "output_type": "execute_result",
          "data": {
            "text/plain": [
              "[4.99, 5.1, 5.4, 4.8]"
            ]
          },
          "metadata": {},
          "execution_count": 5
        }
      ],
      "source": [
        "gas_prices = [4.99, 5.10, 5.40, 4.80]\n",
        "gas_prices"
      ]
    },
    {
      "cell_type": "markdown",
      "metadata": {
        "id": "Yr3TSbbJsoao"
      },
      "source": [
        "b, 2pts) We discovered a new gas station.  Call the list method\n",
        " append() to add the value 4.75 to the end of the list."
      ]
    },
    {
      "cell_type": "code",
      "execution_count": 6,
      "metadata": {
        "id": "NqzSEhGfsfiy",
        "colab": {
          "base_uri": "https://localhost:8080/"
        },
        "outputId": "14637643-e1cf-4ce2-b7d5-381745c8aaec"
      },
      "outputs": [
        {
          "output_type": "execute_result",
          "data": {
            "text/plain": [
              "[4.99, 5.1, 5.4, 4.8, 4.75]"
            ]
          },
          "metadata": {},
          "execution_count": 6
        }
      ],
      "source": [
        "gas_prices.append(4.75)\n",
        "gas_prices"
      ]
    },
    {
      "cell_type": "markdown",
      "metadata": {
        "id": "aPVRow22s6mp"
      },
      "source": [
        "c, 3pts) Call the sort() method on the prices, then write an expression that returns the median price in the list, that is, the price in the middle.  (You can hardcode the index of the median price.)"
      ]
    },
    {
      "cell_type": "code",
      "execution_count": 7,
      "metadata": {
        "id": "vRM2otpXtOCg",
        "colab": {
          "base_uri": "https://localhost:8080/"
        },
        "outputId": "0126b4e7-3be4-4a90-8da4-f3a7a9760818"
      },
      "outputs": [
        {
          "output_type": "stream",
          "name": "stdout",
          "text": [
            "4.99\n"
          ]
        }
      ],
      "source": [
        "gas_prices.sort()\n",
        "median_index = int((len(gas_prices)-1)/2)\n",
        "print(gas_prices[median_index])"
      ]
    },
    {
      "cell_type": "markdown",
      "metadata": {
        "id": "2-MkftMYtlgZ"
      },
      "source": [
        "d, 4pts) Assuming the list is already sorted, code an expression that returns the difference between the largest price and the smallest price."
      ]
    },
    {
      "cell_type": "code",
      "execution_count": 9,
      "metadata": {
        "id": "V1RO8jtHtxnf",
        "colab": {
          "base_uri": "https://localhost:8080/"
        },
        "outputId": "95077494-e351-4560-850f-777713bcbf12"
      },
      "outputs": [
        {
          "output_type": "execute_result",
          "data": {
            "text/plain": [
              "0.6500000000000004"
            ]
          },
          "metadata": {},
          "execution_count": 9
        }
      ],
      "source": [
        "max(gas_prices) - min(gas_prices)"
      ]
    },
    {
      "cell_type": "markdown",
      "metadata": {
        "id": "Oh2flyMwEOWY"
      },
      "source": [
        "e, 3pts) Look online for a list method that reverses the order of the list.  Do this to gas_prices and print it."
      ]
    },
    {
      "cell_type": "code",
      "execution_count": 11,
      "metadata": {
        "id": "QfBf9dJnEOWY",
        "colab": {
          "base_uri": "https://localhost:8080/"
        },
        "outputId": "de5bd853-16f6-45b8-db83-842bee3d2d79"
      },
      "outputs": [
        {
          "output_type": "stream",
          "name": "stdout",
          "text": [
            "[5.4, 5.1, 4.99, 4.8, 4.75]\n"
          ]
        }
      ],
      "source": [
        "gas_prices.reverse()\n",
        "print(gas_prices)"
      ]
    },
    {
      "cell_type": "markdown",
      "metadata": {
        "id": "KE1D4D70EOWY"
      },
      "source": [
        "f, 3 pts) Here is a list-of-lists \"prices\" containing gas prices by the gallon in the first list, and milk prices by the gallon in the second list.  Write the expression that accesses the second milk price (3.04)."
      ]
    },
    {
      "cell_type": "code",
      "execution_count": 21,
      "metadata": {
        "id": "3z3CxsZyEOWY",
        "colab": {
          "base_uri": "https://localhost:8080/"
        },
        "outputId": "ccc72f9e-bd0e-4b3d-ccbf-13312237b470"
      },
      "outputs": [
        {
          "output_type": "stream",
          "name": "stdout",
          "text": [
            "[2.9, 3.04, 3.32, 3.55]\n"
          ]
        }
      ],
      "source": [
        "prices = [[4.99, 5.10, 5.40, 4.80], # gas prices\n",
        "          [2.90, 3.04, 3.32, 3.55]] # milk prices\n",
        "print(prices[1])"
      ]
    },
    {
      "cell_type": "code",
      "execution_count": null,
      "metadata": {
        "id": "uODAkm0TEOWY"
      },
      "outputs": [],
      "source": [
        "# TODO"
      ]
    },
    {
      "cell_type": "markdown",
      "metadata": {
        "id": "ZHLdmEMzEOWY"
      },
      "source": [
        "g, 3pts) Use the function max() to find the largest *milk* price.  (Index just once into prices, to get the milk list.)"
      ]
    },
    {
      "cell_type": "code",
      "execution_count": 17,
      "metadata": {
        "id": "3bhZmyCJEOWY",
        "colab": {
          "base_uri": "https://localhost:8080/"
        },
        "outputId": "db1ac61c-ee84-4088-9360-09b9f198da54"
      },
      "outputs": [
        {
          "output_type": "execute_result",
          "data": {
            "text/plain": [
              "5.4"
            ]
          },
          "metadata": {},
          "execution_count": 17
        }
      ],
      "source": [
        "max(prices[0])"
      ]
    }
  ],
  "metadata": {
    "colab": {
      "provenance": [],
      "include_colab_link": true
    },
    "kernelspec": {
      "display_name": "Python 3",
      "language": "python",
      "name": "python3"
    },
    "language_info": {
      "codemirror_mode": {
        "name": "ipython",
        "version": 3
      },
      "file_extension": ".py",
      "mimetype": "text/x-python",
      "name": "python",
      "nbconvert_exporter": "python",
      "pygments_lexer": "ipython3",
      "version": "3.8.8"
    }
  },
  "nbformat": 4,
  "nbformat_minor": 0
}
